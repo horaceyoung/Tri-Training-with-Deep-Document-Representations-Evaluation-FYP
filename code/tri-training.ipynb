{
 "cells": [
  {
   "cell_type": "code",
   "execution_count": 1,
   "metadata": {},
   "outputs": [],
   "source": [
    "import gc\n",
    "import numpy as np\n",
    "import tensorflow as tf\n",
    "import yaml\n",
    "import joblib\n",
    "from pprint import pprint\n",
    "from sklearn.ensemble import RandomForestClassifier\n",
    "from sklearn.svm import LinearSVC\n",
    "from sklearn.multiclass import OneVsOneClassifier\n",
    "from sklearn.ensemble import AdaBoostClassifier\n",
    "import xgboost as xgb\n",
    "import random\n",
    "from tri_training_model import TriTraining\n",
    "from sklearn.metrics import classification_report\n",
    "from sklearn.preprocessing import MinMaxScaler\n",
    "from sklearn.calibration import CalibratedClassifierCV\n",
    "\n",
    "from keras import backend as K\n",
    "\n",
    "from keras.callbacks import EarlyStopping\n",
    "from keras.callbacks import ModelCheckpoint\n",
    "# from utils.common import build_model, build_model_word_vector, build_conv_model, softmax\n"
   ]
  },
  {
   "cell_type": "code",
   "execution_count": 2,
   "metadata": {},
   "outputs": [],
   "source": [
    "file = '../config/ttnews.yaml'\n",
    "with open(file, 'r') as f:\n",
    "    config = yaml.safe_load(f)\n",
    "# end with"
   ]
  },
  {
   "cell_type": "code",
   "execution_count": 3,
   "metadata": {},
   "outputs": [],
   "source": [
    "# Load labeled data, unlabeled data, and testing data\n",
    "L = joblib.load(config['labeled_train_out'])\n",
    "U = joblib.load(config['unlabeled_train_out'])\n",
    "T = joblib.load(config['test_out'])"
   ]
  },
  {
   "cell_type": "code",
   "execution_count": 4,
   "metadata": {},
   "outputs": [
    {
     "name": "stderr",
     "output_type": "stream",
     "text": [
      "DEBUG:root:========== iteration 1 has begun ==========\n",
      "DEBUG:root:classifier 0: combined error of classifier 1 and 2 is 0.10884353741496598\n",
      "DEBUG:root:Number of added labeled examples: 1214\n",
      "INFO:root:l_prime 0 is 0, new value 1 has been assigned to l_prime0\n",
      "INFO:root:l_prime is less than L0\n",
      "INFO:root:L0 has been subsampled to size 3\n",
      "DEBUG:root:classifier 1: combined error of classifier 0 and 2 is 0.061224489795918366\n",
      "DEBUG:root:Number of added labeled examples: 1096\n",
      "INFO:root:l_prime 1 is 0, new value 1 has been assigned to l_prime1\n",
      "INFO:root:l_prime is less than L1\n",
      "INFO:root:L1 has been subsampled to size 7\n",
      "DEBUG:root:classifier 2: combined error of classifier 0 and 1 is 0.027093596059113302\n",
      "DEBUG:root:Number of added labeled examples: 3614\n",
      "INFO:root:l_prime 2 is 0, new value 1 has been assigned to l_prime2\n",
      "INFO:root:l_prime is less than L2\n",
      "INFO:root:L2 has been subsampled to size 17\n",
      "DEBUG:root:========== iteration 2 has begun ==========\n",
      "DEBUG:root:classifier 0: combined error of classifier 1 and 2 is 0.012269938650306749\n",
      "DEBUG:root:Number of added labeled examples: 1250\n",
      "INFO:root:l_prime is less than L0\n",
      "INFO:root:L0 has been subsampled to size 25\n",
      "DEBUG:root:classifier 1: combined error of classifier 0 and 2 is 0.0\n",
      "DEBUG:root:Number of added labeled examples: 1730\n",
      "INFO:root:l_prime is less than L1\n",
      "INFO:root:e1 * L1 < e1_prime * l1_prime is satisfied\n",
      "INFO:root:h1 will be updated\n",
      "DEBUG:root:classifier 2: combined error of classifier 0 and 1 is 0.0\n",
      "DEBUG:root:Number of added labeled examples: 4329\n",
      "INFO:root:l_prime is less than L2\n",
      "INFO:root:e2 * L2 < e2_prime * l2_prime is satisfied\n",
      "INFO:root:h2 will be updated\n",
      "DEBUG:root:========== iteration 3 has begun ==========\n",
      "DEBUG:root:classifier 0: combined error of classifier 1 and 2 is 0.12605042016806722\n",
      "INFO:root:e_prime0 > e0\n",
      "INFO:root:l_prime0 > L0\n",
      "DEBUG:root:classifier 1: combined error of classifier 0 and 2 is 0.0\n",
      "INFO:root:e_prime1 > e1\n",
      "INFO:root:l_prime1 > L1\n",
      "DEBUG:root:classifier 2: combined error of classifier 0 and 1 is 0.0\n",
      "INFO:root:e_prime2 > e2\n",
      "INFO:root:l_prime2 > L2\n"
     ]
    }
   ],
   "source": [
    "tt_instance = TriTraining(representations=['tfidf', 'doc2vec', 'use'],\n",
    "                          classifiers=[RandomForestClassifier(), LinearSVC(), AdaBoostClassifier()],\n",
    "                          config=config)\n",
    "tt_instance.fit(L, U)"
   ]
  },
  {
   "cell_type": "code",
   "execution_count": 5,
   "metadata": {},
   "outputs": [
    {
     "name": "stderr",
     "output_type": "stream",
     "text": [
      "INFO:root:Prediction started\n"
     ]
    },
    {
     "name": "stdout",
     "output_type": "stream",
     "text": [
      "              precision    recall  f1-score   support\n",
      "\n",
      "           0       0.47      0.16      0.24       319\n",
      "           1       0.53      0.31      0.39       389\n",
      "           2       0.38      0.68      0.49       394\n",
      "           3       0.44      0.43      0.43       392\n",
      "           4       0.46      0.54      0.49       385\n",
      "           5       0.60      0.47      0.53       395\n",
      "           6       0.37      0.80      0.51       390\n",
      "           7       0.64      0.62      0.63       396\n",
      "           8       0.77      0.55      0.64       398\n",
      "           9       0.53      0.73      0.61       397\n",
      "          10       0.80      0.69      0.74       399\n",
      "          11       0.87      0.75      0.81       396\n",
      "          12       0.42      0.28      0.34       393\n",
      "          13       0.57      0.43      0.49       396\n",
      "          14       0.74      0.62      0.67       394\n",
      "          15       0.37      0.90      0.53       398\n",
      "          16       0.68      0.59      0.63       364\n",
      "          17       0.90      0.47      0.61       376\n",
      "          18       0.62      0.38      0.47       310\n",
      "          19       0.24      0.04      0.07       251\n",
      "\n",
      "    accuracy                           0.54      7532\n",
      "   macro avg       0.57      0.52      0.52      7532\n",
      "weighted avg       0.58      0.54      0.53      7532\n",
      "\n"
     ]
    }
   ],
   "source": [
    "print(tt_instance.score(T))"
   ]
  },
  {
   "cell_type": "code",
   "execution_count": null,
   "metadata": {},
   "outputs": [],
   "source": [
    "tt_instance.classifiers[0]."
   ]
  }
 ],
 "metadata": {
  "kernelspec": {
   "display_name": "Python 3",
   "language": "python",
   "name": "python3"
  },
  "language_info": {
   "codemirror_mode": {
    "name": "ipython",
    "version": 3
   },
   "file_extension": ".py",
   "mimetype": "text/x-python",
   "name": "python",
   "nbconvert_exporter": "python",
   "pygments_lexer": "ipython3",
   "version": "3.8.5"
  }
 },
 "nbformat": 4,
 "nbformat_minor": 4
}
