{
 "cells": [
  {
   "cell_type": "code",
   "execution_count": 5,
   "metadata": {},
   "outputs": [],
   "source": [
    "import gc\n",
    "import numpy as np\n",
    "import tensorflow as tf\n",
    "import yaml\n",
    "import joblib\n",
    "import random\n",
    "import xgboost\n",
    "from pprint import pprint\n",
    "from sklearn.metrics import classification_report\n",
    "from sklearn.metrics import accuracy_score\n",
    "from sklearn.svm import LinearSVC\n",
    "from sklearn.ensemble import RandomForestClassifier\n",
    "\n",
    "from keras import backend as K\n",
    "from keras.callbacks import EarlyStopping\n",
    "from keras.callbacks import ModelCheckpoint"
   ]
  },
  {
   "cell_type": "code",
   "execution_count": 9,
   "metadata": {},
   "outputs": [
    {
     "name": "stdout",
     "output_type": "stream",
     "text": [
      "'====================Configs===================='\n"
     ]
    }
   ],
   "source": [
    "# load constants and config\n",
    "config_path = '../config/20news.yaml'\n",
    "with open(config_path, 'r') as f:\n",
    "    config = yaml.safe_load(f)\n",
    "# end with\n",
    "pprint('=' * 20 + 'Configs' + '=' * 20)\n",
    "\n",
    "\n",
    "LB, L, T, TEXT_EMBEDDING_MATRIX = None, None, None, None\n",
    "\n",
    "random.seed(config['seed'])\n",
    "np.random.seed(config['seed'])\n",
    "tf.random.set_seed(config['seed'])\n",
    "LB = joblib.load(config['binarizer_out'])\n",
    "LE = joblib.load(config['encoder_out'])\n",
    "L = joblib.load(config['labeled_train_out'])\n",
    "T = joblib.load(config['test_out'])\n",
    "random.shuffle(L)"
   ]
  },
  {
   "cell_type": "code",
   "execution_count": 14,
   "metadata": {},
   "outputs": [],
   "source": [
    "def train_svm(rep):\n",
    "    print('='*20 + rep + 'svm' + '='*20, flush=True)\n",
    "    global LE, LB, U, L, U_prime, n, k, u, config\n",
    "    train_train = np.array([np.array(item[rep]) for item in L])\n",
    "    y_train = np.array([np.array(item['cat_en']) for item in L])\n",
    "\n",
    "    # Use L1 to train a classifier h1 that considers only the use representation of doc\n",
    "    h1 = LinearSVC(random_state=0, tol=1e-5)\n",
    "    h1.fit(train_train, y_train)\n",
    "\n",
    "    # define the third combined classifier from h1 and h2,\n",
    "    # and test the performance of h1 and h2 on test set\n",
    "    print('=' * 50 + 'Predicting on Test Set....' + '=' * 50, flush=True)\n",
    "\n",
    "    T_test = np.array([np.array(item[rep]) for item in T])\n",
    "    h1_y_pred = h1.predict(T_test)\n",
    "    del T_test\n",
    "    gc.collect()\n",
    "\n",
    "    h1_y_pred = LE.inverse_transform(h1_y_pred)\n",
    "\n",
    "    y_true = np.array([item['cat_bin'] for item in T])\n",
    "    y_true = LB.inverse_transform(y_true)\n",
    "\n",
    "    print(accuracy_score(y_true, h1_y_pred), flush=True)\n",
    "\n",
    "    print(classification_report(y_true, h1_y_pred), flush=True)\n",
    "# end def"
   ]
  },
  {
   "cell_type": "code",
   "execution_count": 15,
   "metadata": {},
   "outputs": [
    {
     "name": "stdout",
     "output_type": "stream",
     "text": [
      "====================doc2vecsvm====================\n",
      "==================================================Predicting on Test Set....==================================================\n",
      "0.4318906001062135\n",
      "                          precision    recall  f1-score   support\n",
      "\n",
      "             alt.atheism       0.26      0.32      0.29       319\n",
      "           comp.graphics       0.33      0.40      0.36       389\n",
      " comp.os.ms-windows.misc       0.30      0.31      0.30       394\n",
      "comp.sys.ibm.pc.hardware       0.34      0.36      0.35       392\n",
      "   comp.sys.mac.hardware       0.29      0.25      0.26       385\n",
      "          comp.windows.x       0.44      0.42      0.43       395\n",
      "            misc.forsale       0.55      0.57      0.56       390\n",
      "               rec.autos       0.53      0.47      0.50       396\n",
      "         rec.motorcycles       0.53      0.54      0.53       398\n",
      "      rec.sport.baseball       0.39      0.62      0.48       397\n",
      "        rec.sport.hockey       0.62      0.64      0.63       399\n",
      "               sci.crypt       0.71      0.51      0.59       396\n",
      "         sci.electronics       0.34      0.30      0.32       393\n",
      "                 sci.med       0.66      0.59      0.62       396\n",
      "               sci.space       0.53      0.53      0.53       394\n",
      "  soc.religion.christian       0.54      0.46      0.50       398\n",
      "      talk.politics.guns       0.37      0.37      0.37       364\n",
      "   talk.politics.mideast       0.40      0.39      0.39       376\n",
      "      talk.politics.misc       0.33      0.28      0.30       310\n",
      "      talk.religion.misc       0.16      0.12      0.14       251\n",
      "\n",
      "                accuracy                           0.43      7532\n",
      "               macro avg       0.43      0.42      0.42      7532\n",
      "            weighted avg       0.44      0.43      0.43      7532\n",
      "\n"
     ]
    }
   ],
   "source": [
    "train_svm('doc2vec')"
   ]
  },
  {
   "cell_type": "code",
   "execution_count": null,
   "metadata": {},
   "outputs": [],
   "source": []
  }
 ],
 "metadata": {
  "kernelspec": {
   "display_name": "Python 3",
   "language": "python",
   "name": "python3"
  },
  "language_info": {
   "codemirror_mode": {
    "name": "ipython",
    "version": 3
   },
   "file_extension": ".py",
   "mimetype": "text/x-python",
   "name": "python",
   "nbconvert_exporter": "python",
   "pygments_lexer": "ipython3",
   "version": "3.8.5"
  }
 },
 "nbformat": 4,
 "nbformat_minor": 4
}
